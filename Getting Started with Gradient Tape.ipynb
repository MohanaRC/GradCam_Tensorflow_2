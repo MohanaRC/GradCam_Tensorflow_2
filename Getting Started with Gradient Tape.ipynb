{
 "cells": [
  {
   "cell_type": "markdown",
   "id": "0b5dd340",
   "metadata": {},
   "source": [
    "#                                  Getting started with Gradient Tape"
   ]
  },
  {
   "cell_type": "code",
   "execution_count": 1,
   "id": "d9f31785",
   "metadata": {},
   "outputs": [],
   "source": [
    "import numpy as np\n",
    "import tensorflow as tf"
   ]
  },
  {
   "cell_type": "markdown",
   "id": "017e8f51",
   "metadata": {},
   "source": [
    "## Example 1: Getting Started with Gradient Tape"
   ]
  },
  {
   "cell_type": "code",
   "execution_count": 2,
   "id": "ac333efe",
   "metadata": {},
   "outputs": [],
   "source": [
    "def tf_gradient_tape(x):\n",
    "    \"\"\"\n",
    "    Simple implementation to understand the functioning of gradient tape\n",
    "    Inputs:\n",
    "    x: Tensor value \n",
    "\n",
    "    Returns:\n",
    "    EagerTensor: Derivative of y with respect to input tensor x\n",
    "    \"\"\"\n",
    "    with tf.GradientTape() as t:\n",
    "        t.watch(x)\n",
    "        y = x**3   ## Defining f(x)=x**2\n",
    "  \n",
    "    # Calculating the derivative of y with respect to x\n",
    "    dy_dx = t.gradient(y, x)\n",
    "    \n",
    "    return dy_dx"
   ]
  },
  {
   "cell_type": "code",
   "execution_count": 3,
   "id": "ed8c2d0b",
   "metadata": {},
   "outputs": [],
   "source": [
    "# Run the function for x=5\n",
    "tmp_x = tf.constant(5.0)\n",
    "dy_dx = tf_gradient_tape(tmp_x)\n",
    "result = dy_dx.numpy()"
   ]
  },
  {
   "cell_type": "code",
   "execution_count": 4,
   "id": "fe57f8f1",
   "metadata": {},
   "outputs": [
    {
     "name": "stdout",
     "output_type": "stream",
     "text": [
      "75.0\n"
     ]
    }
   ],
   "source": [
    "print (result)"
   ]
  },
  {
   "cell_type": "markdown",
   "id": "0f78df7d",
   "metadata": {},
   "source": [
    "## Example 2: Finding the intermediate gradient and implementing Chain Rule in Partial Differentiation"
   ]
  },
  {
   "cell_type": "code",
   "execution_count": 5,
   "id": "e8060204",
   "metadata": {},
   "outputs": [],
   "source": [
    "def tf_gradient_tape2(x):\n",
    "    \"\"\"\n",
    "    Simple implementation to understand the functioning of gradient tape for chain rule\n",
    "    Inputs:\n",
    "    x: Tensor value \n",
    "\n",
    "    Returns:\n",
    "    EagerTensor: Derivative of z with respect to input tensor y\n",
    "    \"\"\"\n",
    "    with tf.GradientTape() as t:\n",
    "        t.watch(x)\n",
    "        y=x*x  ## Defining y(x)=x**2\n",
    "        z=y*y  ## Defining z(y)=y**2\n",
    "    # Calculating the derivative of z with respect to x\n",
    "    dz_dx = t.gradient(z, x)\n",
    "    return dz_dx"
   ]
  },
  {
   "cell_type": "code",
   "execution_count": 6,
   "id": "f8d6de13",
   "metadata": {},
   "outputs": [],
   "source": [
    "# Run the function for x=5\n",
    "tmp_x = tf.constant(3.0)\n",
    "dz_dx = tf_gradient_tape2(tmp_x)\n",
    "result = dz_dx.numpy()"
   ]
  },
  {
   "cell_type": "code",
   "execution_count": 7,
   "id": "71fc3b99",
   "metadata": {},
   "outputs": [
    {
     "name": "stdout",
     "output_type": "stream",
     "text": [
      "108.0\n"
     ]
    }
   ],
   "source": [
    "print (result)"
   ]
  },
  {
   "cell_type": "markdown",
   "id": "ce93ef20",
   "metadata": {},
   "source": [
    "## Example 3: Computing intermediate values for Example 2"
   ]
  },
  {
   "cell_type": "markdown",
   "id": "6e25ec5a",
   "metadata": {},
   "source": [
    "### Example 3a: Without setting parameter *persistent* as **True**"
   ]
  },
  {
   "cell_type": "code",
   "execution_count": 8,
   "id": "8b96528f",
   "metadata": {},
   "outputs": [
    {
     "ename": "NameError",
     "evalue": "name 'tf_gradient_no_persistent' is not defined",
     "output_type": "error",
     "traceback": [
      "\u001b[1;31m---------------------------------------------------------------------------\u001b[0m",
      "\u001b[1;31mNameError\u001b[0m                                 Traceback (most recent call last)",
      "Input \u001b[1;32mIn [8]\u001b[0m, in \u001b[0;36m<cell line: 23>\u001b[1;34m()\u001b[0m\n\u001b[0;32m     21\u001b[0m \u001b[38;5;66;03m# Run the function for x=5\u001b[39;00m\n\u001b[0;32m     22\u001b[0m tmp_x \u001b[38;5;241m=\u001b[39m tf\u001b[38;5;241m.\u001b[39mconstant(\u001b[38;5;241m3.0\u001b[39m)\n\u001b[1;32m---> 23\u001b[0m dy_dx,dz_dx \u001b[38;5;241m=\u001b[39m \u001b[43mtf_gradient_no_persistent\u001b[49m(tmp_x)\n\u001b[0;32m     24\u001b[0m result_zx \u001b[38;5;241m=\u001b[39m dz_dx\u001b[38;5;241m.\u001b[39mnumpy()\n\u001b[0;32m     25\u001b[0m result_yx\u001b[38;5;241m=\u001b[39m dy_dx\u001b[38;5;241m.\u001b[39mnumpy()\n",
      "\u001b[1;31mNameError\u001b[0m: name 'tf_gradient_no_persistent' is not defined"
     ]
    }
   ],
   "source": [
    "def tf_gradient_tape_no_persistent(x):\n",
    "    \"\"\"\n",
    "    Simple implementation to understand the functioning of gradient tape for chain rule and return intermediate values without\n",
    "    setting persistent parameter\n",
    "    Inputs:\n",
    "    x: Tensor value \n",
    "\n",
    "    Returns:\n",
    "    EagerTensor: Derivative of y with respect to input tensor x and derivative of z with respect to input tensor x \n",
    "    \"\"\"\n",
    "    with tf.GradientTape(persistent=True) as t:\n",
    "        t.watch(x)\n",
    "        y=x*x  ## Defining y(x)=x**2\n",
    "        z=y*y  ## Defining z(y)=y**2\n",
    "    # Calculating the derivative of y with respect to x\n",
    "    dy_dx=t.gradient(y,x)\n",
    "    # Calculating the derivative of z with respect to x\n",
    "    dz_dx = t.gradient(z, x)\n",
    "    return dy_dx,dz_dx\n",
    "\n",
    "# Run the function for x=5\n",
    "tmp_x = tf.constant(3.0)\n",
    "dy_dx,dz_dx = tf_gradient_no_persistent(tmp_x)\n",
    "result_zx = dz_dx.numpy()\n",
    "result_yx= dy_dx.numpy()"
   ]
  },
  {
   "cell_type": "markdown",
   "id": "3b135e28",
   "metadata": {},
   "source": [
    "### Example 3b: Setting parameter *persistent* as **True**\n"
   ]
  },
  {
   "cell_type": "code",
   "execution_count": 9,
   "id": "1724d4b0",
   "metadata": {},
   "outputs": [],
   "source": [
    "def tf_gradient_tape_persistent(x):\n",
    "    \"\"\"\n",
    "    Simple implementation to understand the functioning of gradient tape for chain rule with persistent set to True\n",
    "    Inputs:\n",
    "    x: Tensor value \n",
    "\n",
    "    Returns:\n",
    "    EagerTensor: Derivative of y with respect to input tensor x and derivate of z with respect to x\n",
    "    \"\"\"\n",
    "    with tf.GradientTape(persistent=True) as t:\n",
    "        t.watch(x)\n",
    "        y=x*x  ## Defining y(x)=x**2\n",
    "        z=y*y  ## Defining z(y)=y**2\n",
    "    # Calculating the derivative y with respect to x\n",
    "    dy_dx=t.gradient(y,x)\n",
    "    # Calculating the derivative y with respect to x\n",
    "    dz_dx = t.gradient(z, x)\n",
    "    return dy_dx,dz_dx\n",
    "\n",
    "# Run the function for x=5\n",
    "tmp_x = tf.constant(3.0)\n",
    "dy_dx,dz_dx = tf_gradient_tape_persistent(tmp_x)\n",
    "result_zx = dz_dx.numpy()\n",
    "result_yx= dy_dx.numpy()"
   ]
  },
  {
   "cell_type": "code",
   "execution_count": 10,
   "id": "0b58b257",
   "metadata": {},
   "outputs": [
    {
     "name": "stdout",
     "output_type": "stream",
     "text": [
      "dz/dx is  108.0\n",
      "dy/dx is  6.0\n"
     ]
    }
   ],
   "source": [
    "print (\"dz/dx is \", result_zx)\n",
    "print (\"dy/dx is \", result_yx)"
   ]
  },
  {
   "cell_type": "code",
   "execution_count": null,
   "id": "4da0c613",
   "metadata": {},
   "outputs": [],
   "source": []
  }
 ],
 "metadata": {
  "kernelspec": {
   "display_name": "Python (myenv)",
   "language": "python",
   "name": "cv2"
  },
  "language_info": {
   "codemirror_mode": {
    "name": "ipython",
    "version": 3
   },
   "file_extension": ".py",
   "mimetype": "text/x-python",
   "name": "python",
   "nbconvert_exporter": "python",
   "pygments_lexer": "ipython3",
   "version": "3.9.12"
  }
 },
 "nbformat": 4,
 "nbformat_minor": 5
}
