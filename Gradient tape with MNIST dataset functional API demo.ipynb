{
 "cells": [
  {
   "cell_type": "markdown",
   "id": "dcf5c973",
   "metadata": {},
   "source": [
    "# Gradient Tape with Tensorflow - MNIST - Functional API"
   ]
  },
  {
   "cell_type": "markdown",
   "id": "401539c7",
   "metadata": {},
   "source": [
    "In this notebook, we look at an example of training a Tensorflow model using Gradient Tape\n",
    "To run this notebook, I am using the following package versions:\n",
    "\n",
    "* Tensorflow: 2.8.0\n",
    "\n",
    "* OpenCV: 4.6.0\n",
    "\n",
    "* Tensorflow datasets: 4.6.0\n",
    "\n",
    "There might be minor variations in the code for different versions of these packages.\n",
    "\n",
    "Also this implementation assumes some knowledge of Tensorflow Functional API. "
   ]
  },
  {
   "cell_type": "markdown",
   "id": "56cc6c1a",
   "metadata": {},
   "source": [
    "### Import necessary packages"
   ]
  },
  {
   "cell_type": "code",
   "execution_count": 1,
   "id": "77b791dd",
   "metadata": {},
   "outputs": [],
   "source": [
    "import warnings \n",
    "warnings.filterwarnings(\"ignore\")\n",
    "\n",
    "import os\n",
    "import glob\n",
    "import cv2\n",
    "from pathlib import Path\n",
    "\n",
    "import numpy as np\n",
    "import pandas as pd\n",
    "import matplotlib.pyplot as plt\n",
    "\n",
    "from skimage.io import imread, imsave\n",
    "from skimage.transform import resize \n",
    "from sklearn.model_selection import train_test_split\n",
    "from tensorflow.keras.models import Model\n",
    "from tensorflow.keras import layers\n",
    "from tensorflow.keras.applications import vgg16\n",
    "from tensorflow.keras.utils import to_categorical\n",
    "from tensorflow.keras.optimizers import SGD, Adam, RMSprop\n",
    "\n",
    "import tensorflow as tf\n",
    "import tensorflow.keras.backend as K\n",
    "import tensorflow_datasets as tfds\n",
    "import tensorflow_hub as hub\n",
    "\n",
    "import matplotlib.ticker as mticker\n"
   ]
  },
  {
   "cell_type": "markdown",
   "id": "b83ca636",
   "metadata": {},
   "source": [
    "### Load, split and understand the dataset"
   ]
  },
  {
   "cell_type": "markdown",
   "id": "aad602b1",
   "metadata": {},
   "source": [
    "Under this section we load the dateset from tensorflow datasets and split the data into **train** and **test**. For more information on how the split is performed check out this link: https://github.com/tensorflow/datasets/blob/master/docs/splits.md\n",
    "\n",
    "Once we have performed the split we want to get a bit more information on how the data is stored after loading. Understanding the datatype beforehand cause prevent a lot of issues from occuring later. "
   ]
  },
  {
   "cell_type": "code",
   "execution_count": 2,
   "id": "35c203a5",
   "metadata": {},
   "outputs": [],
   "source": [
    "train_data, info = tfds.load(\"mnist\", split = \"train\", with_info = True)\n",
    "test_data = tfds.load(\"mnist\", split = \"test\")"
   ]
  },
  {
   "cell_type": "code",
   "execution_count": 3,
   "id": "f3009177",
   "metadata": {},
   "outputs": [
    {
     "data": {
      "text/plain": [
       "<PrefetchDataset element_spec={'image': TensorSpec(shape=(28, 28, 1), dtype=tf.uint8, name=None), 'label': TensorSpec(shape=(), dtype=tf.int64, name=None)}>"
      ]
     },
     "execution_count": 3,
     "metadata": {},
     "output_type": "execute_result"
    }
   ],
   "source": [
    "train_data"
   ]
  },
  {
   "cell_type": "code",
   "execution_count": 4,
   "id": "b026e35a",
   "metadata": {},
   "outputs": [
    {
     "data": {
      "text/plain": [
       "tfds.core.DatasetInfo(\n",
       "    name='mnist',\n",
       "    full_name='mnist/3.0.1',\n",
       "    description=\"\"\"\n",
       "    The MNIST database of handwritten digits.\n",
       "    \"\"\",\n",
       "    homepage='http://yann.lecun.com/exdb/mnist/',\n",
       "    data_path='~\\\\tensorflow_datasets\\\\mnist\\\\3.0.1',\n",
       "    file_format=tfrecord,\n",
       "    download_size=11.06 MiB,\n",
       "    dataset_size=21.00 MiB,\n",
       "    features=FeaturesDict({\n",
       "        'image': Image(shape=(28, 28, 1), dtype=tf.uint8),\n",
       "        'label': ClassLabel(shape=(), dtype=tf.int64, num_classes=10),\n",
       "    }),\n",
       "    supervised_keys=('image', 'label'),\n",
       "    disable_shuffling=False,\n",
       "    splits={\n",
       "        'test': <SplitInfo num_examples=10000, num_shards=1>,\n",
       "        'train': <SplitInfo num_examples=60000, num_shards=1>,\n",
       "    },\n",
       "    citation=\"\"\"@article{lecun2010mnist,\n",
       "      title={MNIST handwritten digit database},\n",
       "      author={LeCun, Yann and Cortes, Corinna and Burges, CJ},\n",
       "      journal={ATT Labs [Online]. Available: http://yann.lecun.com/exdb/mnist},\n",
       "      volume={2},\n",
       "      year={2010}\n",
       "    }\"\"\",\n",
       ")"
      ]
     },
     "execution_count": 4,
     "metadata": {},
     "output_type": "execute_result"
    }
   ],
   "source": [
    "info"
   ]
  },
  {
   "cell_type": "code",
   "execution_count": 5,
   "id": "80405e18",
   "metadata": {},
   "outputs": [
    {
     "data": {
      "text/plain": [
       "10"
      ]
     },
     "execution_count": 5,
     "metadata": {},
     "output_type": "execute_result"
    }
   ],
   "source": [
    "num_classes = info.features[\"label\"].num_classes\n",
    "num_classes"
   ]
  },
  {
   "cell_type": "code",
   "execution_count": 6,
   "id": "6c3dd3bd",
   "metadata": {},
   "outputs": [
    {
     "data": {
      "text/plain": [
       "['0', '1', '2', '3', '4', '5', '6', '7', '8', '9']"
      ]
     },
     "execution_count": 6,
     "metadata": {},
     "output_type": "execute_result"
    }
   ],
   "source": [
    "class_names = info.features[\"label\"].names\n",
    "class_names"
   ]
  },
  {
   "cell_type": "markdown",
   "id": "89bba137",
   "metadata": {},
   "source": [
    "### Data formatting "
   ]
  },
  {
   "cell_type": "markdown",
   "id": "a7b97a53",
   "metadata": {},
   "source": [
    "We have seen earlier that the images are of size 28*28. Here we format the images such that it can be consumed in the input layer of our model. For the sake of understanding, we will create a dummy tensor with the same shape as the input image, pass it through the formatting function and understand the dimensions of the input to the model"
   ]
  },
  {
   "cell_type": "code",
   "execution_count": 7,
   "id": "8c8edcdc",
   "metadata": {},
   "outputs": [],
   "source": [
    "def format_image(data):\n",
    "    \"\"\"\n",
    "       Function to reshape, format and normalize input images to make it compatible with the deep learning model\n",
    "       Inputs:\n",
    "       data: Input image\n",
    "       Outputs:\n",
    "       image: Formatted image\n",
    "       data[\"label\"]: Training label associated with the image\n",
    "    \"\"\"\n",
    "    image = data[\"image\"]\n",
    "    image = tf.reshape(image, [-1])\n",
    "    image = tf.cast(image, 'float32')\n",
    "    image = image / 255.0\n",
    "    return image, data[\"label\"]"
   ]
  },
  {
   "cell_type": "code",
   "execution_count": 8,
   "id": "1b988334",
   "metadata": {},
   "outputs": [],
   "source": [
    "dummy_tensor=tf.ones([28, 28,1], tf.int32)*255"
   ]
  },
  {
   "cell_type": "code",
   "execution_count": 9,
   "id": "cc69d064",
   "metadata": {},
   "outputs": [],
   "source": [
    "dummy_dict={\"image\":dummy_tensor, \"label\":1}"
   ]
  },
  {
   "cell_type": "code",
   "execution_count": 10,
   "id": "0c307a97",
   "metadata": {},
   "outputs": [],
   "source": [
    "formatted_dummy=format_image(dummy_dict)"
   ]
  },
  {
   "cell_type": "code",
   "execution_count": 11,
   "id": "1bd767da",
   "metadata": {},
   "outputs": [
    {
     "data": {
      "text/plain": [
       "TensorShape([784])"
      ]
     },
     "execution_count": 11,
     "metadata": {},
     "output_type": "execute_result"
    }
   ],
   "source": [
    "formatted_dummy[0].shape"
   ]
  },
  {
   "cell_type": "markdown",
   "id": "295bfa58",
   "metadata": {},
   "source": [
    "If you have any issues understanding the different stages of the function you can add print statments after each step. Remember to remove/comment them out before going to the next cell though!!"
   ]
  },
  {
   "cell_type": "markdown",
   "id": "5163df71",
   "metadata": {},
   "source": [
    "Now lets apply the ***format_image*** function on the entire train and test dataset"
   ]
  },
  {
   "cell_type": "code",
   "execution_count": 12,
   "id": "40b6fee2",
   "metadata": {
    "scrolled": false
   },
   "outputs": [],
   "source": [
    "batch_size = 64\n",
    "\n",
    "train_data = train_data.map(format_image)\n",
    "test_data = test_data.map(format_image)\n",
    "train = train_data.shuffle(buffer_size=1024).batch(batch_size)\n",
    "test =  test_data.batch(batch_size=batch_size)"
   ]
  },
  {
   "cell_type": "markdown",
   "id": "1b72b71e",
   "metadata": {},
   "source": [
    "### Define the model"
   ]
  },
  {
   "cell_type": "code",
   "execution_count": 13,
   "id": "12049284",
   "metadata": {},
   "outputs": [],
   "source": [
    "### Define the model,\n",
    "def base_model():\n",
    "    \"\"\"\n",
    "    Define the model architecture here\n",
    "    \"\"\"\n",
    "    inputs = tf.keras.Input(shape=(784,), name='digits')\n",
    "    x = tf.keras.layers.Dense(64, activation='relu', name='dense_1')(inputs)\n",
    "    x = tf.keras.layers.Dense(64, activation='relu', name='dense_2')(x)\n",
    "    outputs = tf.keras.layers.Dense(10, activation='softmax', name='predictions')(x)\n",
    "    model = tf.keras.Model(inputs=inputs, outputs=outputs)\n",
    "    return model"
   ]
  },
  {
   "cell_type": "code",
   "execution_count": 14,
   "id": "53447434",
   "metadata": {},
   "outputs": [],
   "source": [
    "#Define Optimizer and Loss Function\n",
    "optimizer = tf.keras.optimizers.Adam()\n",
    "loss_object = tf.keras.losses.SparseCategoricalCrossentropy()"
   ]
  },
  {
   "cell_type": "code",
   "execution_count": 15,
   "id": "6c34dadd",
   "metadata": {},
   "outputs": [],
   "source": [
    "#Define Metrics \n",
    "train_acc_metric = tf.keras.metrics.SparseCategoricalAccuracy()\n",
    "val_acc_metric = tf.keras.metrics.SparseCategoricalAccuracy()"
   ]
  },
  {
   "cell_type": "markdown",
   "id": "6052b0d3",
   "metadata": {},
   "source": [
    "### Define the training loop"
   ]
  },
  {
   "cell_type": "code",
   "execution_count": 16,
   "id": "2814933b",
   "metadata": {},
   "outputs": [],
   "source": [
    "def apply_gradient(optimizer, model, x, y):\n",
    "    \"\"\"\n",
    "    Function for computing gradient and updating the weights\n",
    "    \"\"\"\n",
    "    with tf.GradientTape() as tape:\n",
    "        # Get model prediction and compute the loss\n",
    "        logits = model(x)\n",
    "        loss_value = loss_object(y_true=y, y_pred=logits)\n",
    "    # Calculate the gradient using tape.gradient and then update the model weights using our optimizer\n",
    "    gradients = tape.gradient(loss_value, model.trainable_weights)\n",
    "    optimizer.apply_gradients(zip(gradients, model.trainable_weights))  \n",
    "    return logits, loss_value"
   ]
  },
  {
   "cell_type": "code",
   "execution_count": 17,
   "id": "6e99f77e",
   "metadata": {},
   "outputs": [],
   "source": [
    "def train_data_for_one_epoch():\n",
    "    \"\"\"\n",
    "    Function for computing the gradient and updating weights in each epoch. \n",
    "    \"\"\"\n",
    "    losses = []\n",
    "    # Iterate over batches of the dataset and call apply_gradient function\n",
    "    for step, (x_batch_train, y_batch_train) in enumerate(train):\n",
    "        logits, loss_value = apply_gradient(optimizer, model, x_batch_train, y_batch_train)     \n",
    "        losses.append(loss_value)\n",
    "        train_acc_metric(y_batch_train, logits)\n",
    "    return losses\n"
   ]
  },
  {
   "cell_type": "code",
   "execution_count": 18,
   "id": "fb18409b",
   "metadata": {},
   "outputs": [],
   "source": [
    "def perform_validation():\n",
    "    \"\"\"\n",
    "    Function for validation\n",
    "    \"\"\"\n",
    "    losses = []\n",
    "    for x_val, y_val in test:\n",
    "        val_logits = model(x_val)\n",
    "        val_loss = loss_object(y_true=y_val, y_pred=val_logits)\n",
    "        losses.append(val_loss)\n",
    "        val_acc_metric(y_val, val_logits)\n",
    "    return losses"
   ]
  },
  {
   "cell_type": "markdown",
   "id": "2948628a",
   "metadata": {},
   "source": [
    "### Model training"
   ]
  },
  {
   "cell_type": "code",
   "execution_count": 19,
   "id": "1f52f516",
   "metadata": {
    "scrolled": false
   },
   "outputs": [
    {
     "name": "stdout",
     "output_type": "stream",
     "text": [
      "Start of epoch 0\n",
      "\n",
      " Epoch 0: Train loss: 0.3264  Validation Loss: 0.1628, Train Accuracy: 0.9075, Validation Accuracy 0.9517\n",
      "Start of epoch 1\n",
      "\n",
      " Epoch 1: Train loss: 0.1410  Validation Loss: 0.1299, Train Accuracy: 0.9584, Validation Accuracy 0.9620\n",
      "Start of epoch 2\n",
      "\n",
      " Epoch 2: Train loss: 0.1023  Validation Loss: 0.1102, Train Accuracy: 0.9700, Validation Accuracy 0.9665\n",
      "Start of epoch 3\n",
      "\n",
      " Epoch 3: Train loss: 0.0817  Validation Loss: 0.1074, Train Accuracy: 0.9761, Validation Accuracy 0.9665\n",
      "Start of epoch 4\n",
      "\n",
      " Epoch 4: Train loss: 0.0655  Validation Loss: 0.1036, Train Accuracy: 0.9807, Validation Accuracy 0.9680\n",
      "Start of epoch 5\n",
      "\n",
      " Epoch 5: Train loss: 0.0540  Validation Loss: 0.0984, Train Accuracy: 0.9836, Validation Accuracy 0.9716\n",
      "Start of epoch 6\n",
      "\n",
      " Epoch 6: Train loss: 0.0471  Validation Loss: 0.1053, Train Accuracy: 0.9854, Validation Accuracy 0.9693\n",
      "Start of epoch 7\n",
      "\n",
      " Epoch 7: Train loss: 0.0384  Validation Loss: 0.1034, Train Accuracy: 0.9880, Validation Accuracy 0.9701\n",
      "Start of epoch 8\n",
      "\n",
      " Epoch 8: Train loss: 0.0335  Validation Loss: 0.1000, Train Accuracy: 0.9891, Validation Accuracy 0.9729\n",
      "Start of epoch 9\n",
      "\n",
      " Epoch 9: Train loss: 0.0287  Validation Loss: 0.1099, Train Accuracy: 0.9907, Validation Accuracy 0.9702\n"
     ]
    }
   ],
   "source": [
    "model = base_model()\n",
    "\n",
    "# Iterate over epochs\n",
    "epochs = 10\n",
    "epochs_val_losses, epochs_train_losses = [], []\n",
    "for epoch in range(epochs):\n",
    "    print('Start of epoch %d' % (epoch,))\n",
    "    \n",
    "    #Perform training using gradient tape\n",
    "    losses_train = train_data_for_one_epoch()\n",
    "    train_acc = train_acc_metric.result()\n",
    "    \n",
    "    #Perform validation\n",
    "    losses_val = perform_validation()\n",
    "    val_acc = val_acc_metric.result()\n",
    "    \n",
    "    #Compute mean training and validation loss in the epoch \n",
    "    losses_train_mean = np.mean(losses_train)\n",
    "    losses_val_mean = np.mean(losses_val)\n",
    "    epochs_val_losses.append(losses_val_mean)\n",
    "    epochs_train_losses.append(losses_train_mean)\n",
    "\n",
    "    print('\\n Epoch %s: Train loss: %.4f  Validation Loss: %.4f, Train Accuracy: %.4f, Validation Accuracy %.4f' % (epoch, float(losses_train_mean), float(losses_val_mean), float(train_acc), float(val_acc)))\n",
    "  \n",
    "    train_acc_metric.reset_states()\n",
    "    val_acc_metric.reset_states()"
   ]
  },
  {
   "cell_type": "code",
   "execution_count": 20,
   "id": "9f88d56a",
   "metadata": {},
   "outputs": [
    {
     "data": {
      "image/png": "[encoded data removed]",
      "text/plain": [
       "<Figure size 432x288 with 1 Axes>"
      ]
     },
     "metadata": {
      "needs_background": "light"
     },
     "output_type": "display_data"
    }
   ],
   "source": [
    "#Plots for Evaluation\n",
    "def plot_metrics(train_metric, val_metric, metric_name, title, ylim=5):\n",
    "    plt.title(title)\n",
    "    plt.ylim(0,ylim)\n",
    "    plt.gca().xaxis.set_major_locator(mticker.MultipleLocator(1))\n",
    "    plt.plot(train_metric,color='blue',label=metric_name)\n",
    "    plt.plot(val_metric,color='green',label='val_' + metric_name)\n",
    "\n",
    "plot_metrics(epochs_train_losses, epochs_val_losses, \"Loss\", \"Loss\", ylim=1.0)"
   ]
  },
  {
   "cell_type": "code",
   "execution_count": null,
   "id": "931842c0",
   "metadata": {},
   "outputs": [],
   "source": []
  }
 ],
 "metadata": {
  "kernelspec": {
   "display_name": "Python (myenv)",
   "language": "python",
   "name": "cv2"
  },
  "language_info": {
   "codemirror_mode": {
    "name": "ipython",
    "version": 3
   },
   "file_extension": ".py",
   "mimetype": "text/x-python",
   "name": "python",
   "nbconvert_exporter": "python",
   "pygments_lexer": "ipython3",
   "version": "3.9.12"
  }
 },
 "nbformat": 4,
 "nbformat_minor": 5
}
